{
 "cells": [
  {
   "cell_type": "code",
   "execution_count": 1,
   "id": "46b77b83",
   "metadata": {},
   "outputs": [],
   "source": [
    "import polars as pl"
   ]
  },
  {
   "cell_type": "code",
   "execution_count": null,
   "id": "f0ccf778-9ae8-4f75-a838-c5858e2f7ff1",
   "metadata": {},
   "outputs": [],
   "source": [
    "train = pl.read_csv(\"data/train.csv\")"
   ]
  },
  {
   "cell_type": "code",
   "execution_count": 3,
   "id": "874a221d",
   "metadata": {},
   "outputs": [
    {
     "data": {
      "text/html": [
       "<div><style>\n",
       ".dataframe > thead > tr,\n",
       ".dataframe > tbody > tr {\n",
       "  text-align: right;\n",
       "  white-space: pre-wrap;\n",
       "}\n",
       "</style>\n",
       "<small>shape: (5, 7)</small><table border=\"1\" class=\"dataframe\"><thead><tr><th>id</th><th>SMILES</th><th>Tg</th><th>FFV</th><th>Tc</th><th>Density</th><th>Rg</th></tr><tr><td>i64</td><td>str</td><td>f64</td><td>f64</td><td>f64</td><td>f64</td><td>f64</td></tr></thead><tbody><tr><td>87817</td><td>&quot;*CC(*)c1ccccc1C(=O)OCCCCCC&quot;</td><td>null</td><td>0.374645</td><td>0.205667</td><td>null</td><td>null</td></tr><tr><td>106919</td><td>&quot;*Nc1ccc([C@H](CCC)c2ccc(C3(c4c…</td><td>null</td><td>0.3704102</td><td>null</td><td>null</td><td>null</td></tr><tr><td>388772</td><td>&quot;*Oc1ccc(S(=O)(=O)c2ccc(Oc3ccc(…</td><td>null</td><td>0.37886</td><td>null</td><td>null</td><td>null</td></tr><tr><td>519416</td><td>&quot;*Nc1ccc(-c2c(-c3ccc(C)cc3)c(-c…</td><td>null</td><td>0.3873239</td><td>null</td><td>null</td><td>null</td></tr><tr><td>539187</td><td>&quot;*Oc1ccc(OC(=O)c2cc(OCCCCCCCCCO…</td><td>null</td><td>0.35547</td><td>null</td><td>null</td><td>null</td></tr></tbody></table></div>"
      ],
      "text/plain": [
       "shape: (5, 7)\n",
       "┌────────┬─────────────────────────────────┬──────┬───────────┬──────────┬─────────┬──────┐\n",
       "│ id     ┆ SMILES                          ┆ Tg   ┆ FFV       ┆ Tc       ┆ Density ┆ Rg   │\n",
       "│ ---    ┆ ---                             ┆ ---  ┆ ---       ┆ ---      ┆ ---     ┆ ---  │\n",
       "│ i64    ┆ str                             ┆ f64  ┆ f64       ┆ f64      ┆ f64     ┆ f64  │\n",
       "╞════════╪═════════════════════════════════╪══════╪═══════════╪══════════╪═════════╪══════╡\n",
       "│ 87817  ┆ *CC(*)c1ccccc1C(=O)OCCCCCC      ┆ null ┆ 0.374645  ┆ 0.205667 ┆ null    ┆ null │\n",
       "│ 106919 ┆ *Nc1ccc([C@H](CCC)c2ccc(C3(c4c… ┆ null ┆ 0.3704102 ┆ null     ┆ null    ┆ null │\n",
       "│ 388772 ┆ *Oc1ccc(S(=O)(=O)c2ccc(Oc3ccc(… ┆ null ┆ 0.37886   ┆ null     ┆ null    ┆ null │\n",
       "│ 519416 ┆ *Nc1ccc(-c2c(-c3ccc(C)cc3)c(-c… ┆ null ┆ 0.3873239 ┆ null     ┆ null    ┆ null │\n",
       "│ 539187 ┆ *Oc1ccc(OC(=O)c2cc(OCCCCCCCCCO… ┆ null ┆ 0.35547   ┆ null     ┆ null    ┆ null │\n",
       "└────────┴─────────────────────────────────┴──────┴───────────┴──────────┴─────────┴──────┘"
      ]
     },
     "execution_count": 3,
     "metadata": {},
     "output_type": "execute_result"
    }
   ],
   "source": [
    "train.head()"
   ]
  },
  {
   "cell_type": "code",
   "execution_count": null,
   "id": "293b4848",
   "metadata": {},
   "outputs": [],
   "source": []
  }
 ],
 "metadata": {
  "kernelspec": {
   "display_name": "Python NEURIPS",
   "language": "python",
   "name": "nombre_del_entorno"
  },
  "language_info": {
   "codemirror_mode": {
    "name": "ipython",
    "version": 3
   },
   "file_extension": ".py",
   "mimetype": "text/x-python",
   "name": "python",
   "nbconvert_exporter": "python",
   "pygments_lexer": "ipython3",
   "version": "3.13.7"
  }
 },
 "nbformat": 4,
 "nbformat_minor": 5
}
